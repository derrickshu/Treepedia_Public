{
 "cells": [
  {
   "cell_type": "markdown",
   "metadata": {},
   "source": [
    "## This script is to calculate the GVI using Google Street View"
   ]
  },
  {
   "cell_type": "code",
   "execution_count": 1,
   "metadata": {},
   "outputs": [],
   "source": [
    "\n",
    "import fiona\n",
    "import os, os.path\n",
    "import createPoints as pnt\n"
   ]
  },
  {
   "cell_type": "code",
   "execution_count": 2,
   "metadata": {},
   "outputs": [
    {
     "data": {
      "text/plain": [
       "{'init': 'epsg:4326'}"
      ]
     },
     "execution_count": 2,
     "metadata": {},
     "output_type": "execute_result"
    }
   ],
   "source": [
    "inshp = '../sample-spatialdata/CambridgeStreet_wgs84.shp'\n",
    "\n",
    "layer = fiona.open(inshp)\n",
    "layer.crs"
   ]
  },
  {
   "cell_type": "markdown",
   "metadata": {},
   "source": [
    "#### Create sample sites from shapefile, make sure the input shapefile is in WGS84"
   ]
  },
  {
   "cell_type": "code",
   "execution_count": null,
   "metadata": {},
   "outputs": [],
   "source": []
  },
  {
   "cell_type": "code",
   "execution_count": 38,
   "metadata": {},
   "outputs": [],
   "source": [
    "# now run the python file: createPoints.py, the input shapefile has to be in projection of WGS84, 4326\n",
    "def createPoints(inshp, outshp, mini_dist):\n",
    "    \n",
    "    '''\n",
    "    This function will parse throigh the street network of provided city and\n",
    "    clean all highways and create points every mini_dist meters (or as specified) along\n",
    "    the linestrings\n",
    "    Required modules: Fiona and Shapely\n",
    "\n",
    "    parameters:\n",
    "        inshp: the input linear shapefile, must be in WGS84 projection, ESPG: 4326\n",
    "        output: the result point feature class\n",
    "        mini_dist: the minimum distance between two created point\n",
    "\n",
    "    modified by May 2ed, 2018, consider the linestring and multi-linear string\n",
    "    last modified by Xiaojiang Li, MIT Senseable City Lab\n",
    "    \n",
    "    '''\n",
    "    \n",
    "    import fiona\n",
    "    import os,os.path\n",
    "    from shapely.geometry import shape,mapping\n",
    "    from shapely.ops import transform\n",
    "    from functools import partial\n",
    "    import pyproj\n",
    "    from fiona.crs import from_epsg\n",
    "    \n",
    "    \n",
    "    count = 0\n",
    "    # s = {'trunk_link','tertiary','motorway','motorway_link','steps', None, ' ','pedestrian','primary', 'primary_link','footway','tertiary_link', 'trunk','secondary','secondary_link','tertiary_link','bridleway','service'}\n",
    "    s = {'trunk_link','tertiary','motorway','motorway_link','steps', ' ','pedestrian','primary', 'primary_link','footway','tertiary_link', 'trunk','secondary','secondary_link','tertiary_link','bridleway','service'}\n",
    "\n",
    "    # the temporaray file of the cleaned data\n",
    "    root = os.path.dirname(inshp)\n",
    "    basename = 'clean_' + os.path.basename(inshp)\n",
    "    temp_cleanedStreetmap = os.path.join(root,basename)\n",
    "    \n",
    "    # if the tempfile exist then delete it\n",
    "    if os.path.exists(temp_cleanedStreetmap):\n",
    "        fiona.remove(temp_cleanedStreetmap, 'ESRI Shapefile')\n",
    "        print ('removed the existed tempfile')\n",
    "    \n",
    "    # clean the original street maps by removing highways, if it the street map not from Open street data, users'd better to clean the data themselve\n",
    "    with fiona.open(inshp) as source, fiona.open(temp_cleanedStreetmap, 'w', driver=source.driver, crs=source.crs,schema=source.schema) as dest:\n",
    "        for feat in source:\n",
    "            try:\n",
    "                i = feat['properties']['highway'] # for the OSM street data\n",
    "                # i = feat['properties']['fclass'] # for the OSM tokyo street data\n",
    "                if i in s:\n",
    "                    continue\n",
    "            except:\n",
    "                # if the street map is not osm, do nothing. You'd better to clean the street map, if you don't want to map the GVI for highways\n",
    "                key = list(dest.schema['properties'].keys())[0] # get the field of the input shapefile and duplicate the input feature\n",
    "                i = feat['properties'][key]\n",
    "                if i in s:\n",
    "                    continue\n",
    "\n",
    "            # print feat\n",
    "            dest.write(feat)\n",
    "\n",
    "    schema = {\n",
    "        'geometry': 'Point',\n",
    "        'properties': {'id': 'int'},\n",
    "    }\n",
    "    \n",
    "    \n",
    "    # Create point along the streets\n",
    "    with fiona.drivers():\n",
    "        #with fiona.open(outshp, 'w', 'ESRI Shapefile', crs=source.crs, schema) as output:\n",
    "        with fiona.open(outshp, 'w', crs = from_epsg(4326), driver = 'ESRI Shapefile', schema = schema) as output:\n",
    "            for line in fiona.open(temp_cleanedStreetmap):\n",
    "                try: \n",
    "                    # deal with MultiLineString and LineString\n",
    "                    featureType = line['geometry']['type']\n",
    "                    \n",
    "                    # for the LineString\n",
    "                    if featureType == \"LineString\":\n",
    "                        first = shape(line['geometry'])\n",
    "                        length = first.length\n",
    "                        \n",
    "                        project = partial(pyproj.transform,pyproj.Proj(init='EPSG:4326'),pyproj.Proj(init='EPSG:3857')) #3857 is psudo WGS84 the unit is meter\n",
    "                        line2 = transform(project, first)\n",
    "                        linestr = list(line2.coords)\n",
    "                        dist = mini_dist \n",
    "                        \n",
    "                        for distance in range(0,int(line2.length), dist):\n",
    "                            point = line2.interpolate(distance)\n",
    "                            project2 = partial(pyproj.transform,pyproj.Proj(init='EPSG:3857'),pyproj.Proj(init='EPSG:4326'))\n",
    "                            point = transform(project2, point)\n",
    "                            output.write({'geometry':mapping(point),'properties': {'id':1}})\n",
    "                    \n",
    "                    # for the MultiLineString, seperate these lines, then partition those lines\n",
    "                    elif featureType == \"MultiLineString\":\n",
    "                        multiline_geom = shape(line['geometry'])\n",
    "                        print ('This is a multiline')\n",
    "                        for singleLine in multiline_geom:\n",
    "                            length = singleLine.length\n",
    "                            \n",
    "                            # partion each single line in the multiline\n",
    "                            project = partial(pyproj.transform,pyproj.Proj(init='EPSG:4326'),pyproj.Proj(init='EPSG:3857')) #3857 is psudo WGS84 the unit is meter\n",
    "                            line2 = transform(project, singleLine)\n",
    "                            linestr = list(line2.coords)\n",
    "                            dist = mini_dist #set\n",
    "                            \n",
    "                            for distance in range(0,int(line2.length), dist):\n",
    "                                point = line2.interpolate(distance)\n",
    "                                project2 = partial(pyproj.transform,pyproj.Proj(init='EPSG:3857'),pyproj.Proj(init='EPSG:4326'))\n",
    "                                point = transform(project2, point)\n",
    "                                output.write({'geometry':mapping(point),'properties': {'id':1}})\n",
    "                    \n",
    "                    else:\n",
    "                        continue\n",
    "                \n",
    "                except:\n",
    "                    print (\"You should make sure the input shapefile is WGS84\")\n",
    "                    return\n",
    "\n",
    "    print(\"Process Complete\")\n",
    "    \n",
    "    # delete the temprary cleaned shapefile\n",
    "    fiona.remove(temp_cleanedStreetmap, 'ESRI Shapefile')\n"
   ]
  },
  {
   "cell_type": "code",
   "execution_count": null,
   "metadata": {},
   "outputs": [],
   "source": []
  },
  {
   "cell_type": "code",
   "execution_count": null,
   "metadata": {},
   "outputs": [],
   "source": []
  },
  {
   "cell_type": "code",
   "execution_count": null,
   "metadata": {},
   "outputs": [],
   "source": []
  },
  {
   "cell_type": "code",
   "execution_count": 5,
   "metadata": {},
   "outputs": [],
   "source": [
    "inshp = '../sample-spatialdata/CambridgeStreet_wgs84.shp'\n",
    "\n",
    "layer = fiona.open(inshp)\n",
    "layer.crs\n",
    "\n",
    "outshp = '../sample-spatialdata/SampleSite40m.shp'\n",
    "mini_dist = 40\n",
    "pnt.createPoints(inshp, outshp, mini_dist)\n"
   ]
  },
  {
   "cell_type": "code",
   "execution_count": 6,
   "metadata": {},
   "outputs": [
    {
     "name": "stdout",
     "output_type": "stream",
     "text": [
      "removed the existed tempfile\n",
      "Process Complete\n"
     ]
    }
   ],
   "source": [
    "pnt.createPoints(inshp, outshp, mini_dist)"
   ]
  },
  {
   "cell_type": "code",
   "execution_count": null,
   "metadata": {},
   "outputs": [],
   "source": []
  },
  {
   "cell_type": "code",
   "execution_count": null,
   "metadata": {},
   "outputs": [],
   "source": [
    "\n",
    "mini_dist = 100\n",
    "outshp = '../sample-spatialdata/SampleSite.shp'\n",
    "\n",
    "pnt.createPoints(inshp, outshp, mini_dist)\n",
    "# createPoints(inshp, outshp, mini_dist)\n"
   ]
  },
  {
   "cell_type": "code",
   "execution_count": null,
   "metadata": {},
   "outputs": [],
   "source": []
  },
  {
   "cell_type": "code",
   "execution_count": null,
   "metadata": {},
   "outputs": [],
   "source": []
  },
  {
   "cell_type": "code",
   "execution_count": 52,
   "metadata": {},
   "outputs": [
    {
     "name": "stderr",
     "output_type": "stream",
     "text": [
      "/Users/senseablecity/anaconda3/lib/python3.7/site-packages/ipykernel_launcher.py:46: FionaDeprecationWarning: Use fiona.Env() instead.\n"
     ]
    },
    {
     "name": "stdout",
     "output_type": "stream",
     "text": [
      "Process Complete\n"
     ]
    }
   ],
   "source": [
    "\n",
    "import fiona\n",
    "import os,os.path\n",
    "from shapely.geometry import shape,mapping\n",
    "from shapely.ops import transform\n",
    "from functools import partial\n",
    "import pyproj\n",
    "from fiona.crs import from_epsg\n",
    "\n",
    "\n",
    "count = 0\n",
    "s = {'trunk_link','tertiary','motorway','motorway_link','steps', None, ' ','pedestrian','primary', 'primary_link','footway','tertiary_link', 'trunk','secondary','secondary_link','tertiary_link','bridleway','service'}\n",
    "\n",
    "# the temporaray file of the cleaned data\n",
    "root = os.path.dirname(inshp)\n",
    "basename = 'clean_' + os.path.basename(inshp)\n",
    "temp_cleanedStreetmap = os.path.join(root,basename)\n",
    "\n",
    "# if the tempfile exist then delete it\n",
    "if os.path.exists(temp_cleanedStreetmap):\n",
    "    fiona.remove(temp_cleanedStreetmap, 'ESRI Shapefile')\n",
    "\n",
    "# clean the original street maps by removing highways, if it the street map not from Open street data, users'd better to clean the data themselve\n",
    "with fiona.open(inshp) as source, fiona.open(temp_cleanedStreetmap, 'w', driver=source.driver, crs=source.crs,schema=source.schema) as dest:\n",
    "\n",
    "    for feat in source:\n",
    "        try:\n",
    "            i = feat['properties']['highway'] # for the OSM street data\n",
    "            if i in s:\n",
    "                continue\n",
    "        except:\n",
    "            # if the street map is not osm, do nothing. You'd better to clean the street map, if you don't want to map the GVI for highways\n",
    "            key = list(dest.schema['properties'].keys())[0] # get the field of the input shapefile and duplicate the input feature\n",
    "            i = feat['properties'][key]\n",
    "            if i in s:\n",
    "                continue\n",
    "\n",
    "        dest.write(feat)\n",
    "\n",
    "schema = {\n",
    "    'geometry': 'Point',\n",
    "    'properties': {'id': 'int'},\n",
    "}\n",
    "\n",
    "# Create pointS along the streets\n",
    "with fiona.drivers():\n",
    "    #with fiona.open(outshp, 'w', 'ESRI Shapefile', crs=source.crs, schema) as output:\n",
    "    with fiona.open(outshp, 'w', crs = from_epsg(4326), driver = 'ESRI Shapefile', schema = schema) as output:\n",
    "        for line in fiona.open(temp_cleanedStreetmap):\n",
    "            first = shape(line['geometry'])\n",
    "\n",
    "            length = first.length\n",
    "\n",
    "            try:\n",
    "                # convert degree to meter, in order to split by distance in meter\n",
    "                project = partial(pyproj.transform,pyproj.Proj(init='EPSG:4326'),pyproj.Proj(init='EPSG:3857')) #3857 is psudo WGS84 the unit is meter\n",
    "\n",
    "                line2 = transform(project, first)\n",
    "                linestr = list(line2.coords)\n",
    "                dist = mini_dist #set\n",
    "                for distance in range(0,int(line2.length), dist):\n",
    "                    point = line2.interpolate(distance)\n",
    "\n",
    "                    # convert the local projection back the the WGS84 and write to the output shp\n",
    "                    project2 = partial(pyproj.transform,pyproj.Proj(init='EPSG:3857'),pyproj.Proj(init='EPSG:4326'))\n",
    "                    point = transform(project2, point)\n",
    "                    output.write({'geometry':mapping(point),'properties': {'id':1}})\n",
    "            except:\n",
    "                print (\"You should make sure the input shapefile is WGS84\")\n",
    "#                 return\n",
    "\n",
    "print(\"Process Complete\")\n",
    "\n",
    "# delete the temprary cleaned shapefile\n",
    "fiona.remove(temp_cleanedStreetmap, 'ESRI Shapefile')"
   ]
  },
  {
   "cell_type": "code",
   "execution_count": null,
   "metadata": {},
   "outputs": [],
   "source": [
    "dest.schema['properties'].keys()"
   ]
  },
  {
   "cell_type": "code",
   "execution_count": null,
   "metadata": {},
   "outputs": [],
   "source": []
  }
 ],
 "metadata": {
  "kernelspec": {
   "display_name": "Python 3",
   "language": "python",
   "name": "python3"
  },
  "language_info": {
   "codemirror_mode": {
    "name": "ipython",
    "version": 3
   },
   "file_extension": ".py",
   "mimetype": "text/x-python",
   "name": "python",
   "nbconvert_exporter": "python",
   "pygments_lexer": "ipython3",
   "version": "3.7.1"
  }
 },
 "nbformat": 4,
 "nbformat_minor": 2
}
